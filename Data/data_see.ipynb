{
 "cells": [
  {
   "cell_type": "code",
   "execution_count": 1,
   "outputs": [],
   "source": [
    "import pandas as pd"
   ],
   "metadata": {
    "collapsed": false,
    "pycharm": {
     "name": "#%%\n"
    }
   }
  },
  {
   "cell_type": "code",
   "execution_count": 2,
   "outputs": [
    {
     "data": {
      "text/plain": "            date      time  temp (C)  gas (ohm)  humidity (%)  pressure (hPa)  \\\n0     2022-03-16  21:27:25      23.9       7795          15.3        1035.755   \n1     2022-03-16  21:35:44      23.9       6582          15.3        1035.780   \n2     2022-03-16  21:35:56      23.9       5703          15.3        1035.815   \n3     2022-03-16  21:38:56      23.9       1268          15.3        1035.820   \n4     2022-03-16  21:41:56      23.9       1949          15.4        1035.824   \n...          ...       ...       ...        ...           ...             ...   \n55626 2022-04-09  17:01:10      22.1    1186891          19.0         992.727   \n55627 2022-04-09  17:01:12      22.2      43303          19.0         992.725   \n55628 2022-04-09  17:01:13      22.2      45661          19.0         992.729   \n55629 2022-04-09  17:01:14      22.3      51183          19.0         992.732   \n55630 2022-04-09  17:03:01      22.2     409627          19.0         992.728   \n\n       altitude (m)  luminance window (lux)  luminance door (lux)   rho_max  \\\n0           -185.71                  122.40                195.84  0.021582   \n1           -185.91                  122.40                195.84  0.021582   \n2           -186.20                  122.40                195.84  0.021582   \n3           -186.24                  122.40                195.84  0.021582   \n4           -186.27                  122.40                195.84  0.021582   \n...             ...                     ...                   ...       ...   \n55626        172.29                  110.16                 97.92  0.019473   \n55627        172.30                  110.16                 97.92  0.019586   \n55628        172.27                  110.16                 97.92  0.019586   \n55629        172.24                  110.16                 97.92  0.019699   \n55630        172.28                  110.16                 97.92  0.019586   \n\n        hum_abs      comp_gas        AQ         IAQ total  \n0      3.302036  8.606722e+03  0.026186  486.907098   Bad  \n1      3.302036  7.267408e+03  0.028918  485.541233   Bad  \n2      3.302036  6.296875e+03  0.025056  487.472144   Bad  \n3      3.302036  1.400042e+03  0.005571  497.214568   Bad  \n4      3.323618  2.153350e+03  0.008568  495.715833   Bad  \n...         ...           ...       ...         ...   ...  \n55626  3.699964  1.326225e+06  1.000000    0.000000  Good  \n55627  3.721296  4.841748e+04  0.192657  403.671713   Bad  \n55628  3.721296  5.105398e+04  0.203147  398.426300   Bad  \n55629  3.742735  5.726499e+04  0.227861  386.069262   Bad  \n55630  3.721296  4.580076e+05  1.000000    0.000000  Good  \n\n[55631 rows x 15 columns]",
      "text/html": "<div>\n<style scoped>\n    .dataframe tbody tr th:only-of-type {\n        vertical-align: middle;\n    }\n\n    .dataframe tbody tr th {\n        vertical-align: top;\n    }\n\n    .dataframe thead th {\n        text-align: right;\n    }\n</style>\n<table border=\"1\" class=\"dataframe\">\n  <thead>\n    <tr style=\"text-align: right;\">\n      <th></th>\n      <th>date</th>\n      <th>time</th>\n      <th>temp (C)</th>\n      <th>gas (ohm)</th>\n      <th>humidity (%)</th>\n      <th>pressure (hPa)</th>\n      <th>altitude (m)</th>\n      <th>luminance window (lux)</th>\n      <th>luminance door (lux)</th>\n      <th>rho_max</th>\n      <th>hum_abs</th>\n      <th>comp_gas</th>\n      <th>AQ</th>\n      <th>IAQ</th>\n      <th>total</th>\n    </tr>\n  </thead>\n  <tbody>\n    <tr>\n      <th>0</th>\n      <td>2022-03-16</td>\n      <td>21:27:25</td>\n      <td>23.9</td>\n      <td>7795</td>\n      <td>15.3</td>\n      <td>1035.755</td>\n      <td>-185.71</td>\n      <td>122.40</td>\n      <td>195.84</td>\n      <td>0.021582</td>\n      <td>3.302036</td>\n      <td>8.606722e+03</td>\n      <td>0.026186</td>\n      <td>486.907098</td>\n      <td>Bad</td>\n    </tr>\n    <tr>\n      <th>1</th>\n      <td>2022-03-16</td>\n      <td>21:35:44</td>\n      <td>23.9</td>\n      <td>6582</td>\n      <td>15.3</td>\n      <td>1035.780</td>\n      <td>-185.91</td>\n      <td>122.40</td>\n      <td>195.84</td>\n      <td>0.021582</td>\n      <td>3.302036</td>\n      <td>7.267408e+03</td>\n      <td>0.028918</td>\n      <td>485.541233</td>\n      <td>Bad</td>\n    </tr>\n    <tr>\n      <th>2</th>\n      <td>2022-03-16</td>\n      <td>21:35:56</td>\n      <td>23.9</td>\n      <td>5703</td>\n      <td>15.3</td>\n      <td>1035.815</td>\n      <td>-186.20</td>\n      <td>122.40</td>\n      <td>195.84</td>\n      <td>0.021582</td>\n      <td>3.302036</td>\n      <td>6.296875e+03</td>\n      <td>0.025056</td>\n      <td>487.472144</td>\n      <td>Bad</td>\n    </tr>\n    <tr>\n      <th>3</th>\n      <td>2022-03-16</td>\n      <td>21:38:56</td>\n      <td>23.9</td>\n      <td>1268</td>\n      <td>15.3</td>\n      <td>1035.820</td>\n      <td>-186.24</td>\n      <td>122.40</td>\n      <td>195.84</td>\n      <td>0.021582</td>\n      <td>3.302036</td>\n      <td>1.400042e+03</td>\n      <td>0.005571</td>\n      <td>497.214568</td>\n      <td>Bad</td>\n    </tr>\n    <tr>\n      <th>4</th>\n      <td>2022-03-16</td>\n      <td>21:41:56</td>\n      <td>23.9</td>\n      <td>1949</td>\n      <td>15.4</td>\n      <td>1035.824</td>\n      <td>-186.27</td>\n      <td>122.40</td>\n      <td>195.84</td>\n      <td>0.021582</td>\n      <td>3.323618</td>\n      <td>2.153350e+03</td>\n      <td>0.008568</td>\n      <td>495.715833</td>\n      <td>Bad</td>\n    </tr>\n    <tr>\n      <th>...</th>\n      <td>...</td>\n      <td>...</td>\n      <td>...</td>\n      <td>...</td>\n      <td>...</td>\n      <td>...</td>\n      <td>...</td>\n      <td>...</td>\n      <td>...</td>\n      <td>...</td>\n      <td>...</td>\n      <td>...</td>\n      <td>...</td>\n      <td>...</td>\n      <td>...</td>\n    </tr>\n    <tr>\n      <th>55626</th>\n      <td>2022-04-09</td>\n      <td>17:01:10</td>\n      <td>22.1</td>\n      <td>1186891</td>\n      <td>19.0</td>\n      <td>992.727</td>\n      <td>172.29</td>\n      <td>110.16</td>\n      <td>97.92</td>\n      <td>0.019473</td>\n      <td>3.699964</td>\n      <td>1.326225e+06</td>\n      <td>1.000000</td>\n      <td>0.000000</td>\n      <td>Good</td>\n    </tr>\n    <tr>\n      <th>55627</th>\n      <td>2022-04-09</td>\n      <td>17:01:12</td>\n      <td>22.2</td>\n      <td>43303</td>\n      <td>19.0</td>\n      <td>992.725</td>\n      <td>172.30</td>\n      <td>110.16</td>\n      <td>97.92</td>\n      <td>0.019586</td>\n      <td>3.721296</td>\n      <td>4.841748e+04</td>\n      <td>0.192657</td>\n      <td>403.671713</td>\n      <td>Bad</td>\n    </tr>\n    <tr>\n      <th>55628</th>\n      <td>2022-04-09</td>\n      <td>17:01:13</td>\n      <td>22.2</td>\n      <td>45661</td>\n      <td>19.0</td>\n      <td>992.729</td>\n      <td>172.27</td>\n      <td>110.16</td>\n      <td>97.92</td>\n      <td>0.019586</td>\n      <td>3.721296</td>\n      <td>5.105398e+04</td>\n      <td>0.203147</td>\n      <td>398.426300</td>\n      <td>Bad</td>\n    </tr>\n    <tr>\n      <th>55629</th>\n      <td>2022-04-09</td>\n      <td>17:01:14</td>\n      <td>22.3</td>\n      <td>51183</td>\n      <td>19.0</td>\n      <td>992.732</td>\n      <td>172.24</td>\n      <td>110.16</td>\n      <td>97.92</td>\n      <td>0.019699</td>\n      <td>3.742735</td>\n      <td>5.726499e+04</td>\n      <td>0.227861</td>\n      <td>386.069262</td>\n      <td>Bad</td>\n    </tr>\n    <tr>\n      <th>55630</th>\n      <td>2022-04-09</td>\n      <td>17:03:01</td>\n      <td>22.2</td>\n      <td>409627</td>\n      <td>19.0</td>\n      <td>992.728</td>\n      <td>172.28</td>\n      <td>110.16</td>\n      <td>97.92</td>\n      <td>0.019586</td>\n      <td>3.721296</td>\n      <td>4.580076e+05</td>\n      <td>1.000000</td>\n      <td>0.000000</td>\n      <td>Good</td>\n    </tr>\n  </tbody>\n</table>\n<p>55631 rows × 15 columns</p>\n</div>"
     },
     "execution_count": 2,
     "metadata": {},
     "output_type": "execute_result"
    }
   ],
   "source": [
    "df = pd.read_excel('initial_data.xlsx')\n",
    "df"
   ],
   "metadata": {
    "collapsed": false,
    "pycharm": {
     "name": "#%%\n"
    }
   }
  },
  {
   "cell_type": "code",
   "execution_count": 13,
   "outputs": [
    {
     "data": {
      "text/plain": "            date      time  temp (C)  gas (ohm)  humidity (%)  pressure (hPa)  \\\n52522 2022-04-05  12:08:59      22.1     238207          25.9         976.883   \n52527 2022-04-05  12:09:21      22.2     294163          25.9         976.852   \n\n       altitude (m)  luminance window (lux)  luminance door (lux)   rho_max  \\\n52522        307.27                  134.64                 55.08  0.019473   \n52527        307.54                  134.64                 30.60  0.019586   \n\n        hum_abs       comp_gas   AQ  IAQ total  \n52522  5.043635  277119.575919  1.0  0.0  Good  \n52527  5.072715  342515.006413  1.0  0.0  Good  ",
      "text/html": "<div>\n<style scoped>\n    .dataframe tbody tr th:only-of-type {\n        vertical-align: middle;\n    }\n\n    .dataframe tbody tr th {\n        vertical-align: top;\n    }\n\n    .dataframe thead th {\n        text-align: right;\n    }\n</style>\n<table border=\"1\" class=\"dataframe\">\n  <thead>\n    <tr style=\"text-align: right;\">\n      <th></th>\n      <th>date</th>\n      <th>time</th>\n      <th>temp (C)</th>\n      <th>gas (ohm)</th>\n      <th>humidity (%)</th>\n      <th>pressure (hPa)</th>\n      <th>altitude (m)</th>\n      <th>luminance window (lux)</th>\n      <th>luminance door (lux)</th>\n      <th>rho_max</th>\n      <th>hum_abs</th>\n      <th>comp_gas</th>\n      <th>AQ</th>\n      <th>IAQ</th>\n      <th>total</th>\n    </tr>\n  </thead>\n  <tbody>\n    <tr>\n      <th>52522</th>\n      <td>2022-04-05</td>\n      <td>12:08:59</td>\n      <td>22.1</td>\n      <td>238207</td>\n      <td>25.9</td>\n      <td>976.883</td>\n      <td>307.27</td>\n      <td>134.64</td>\n      <td>55.08</td>\n      <td>0.019473</td>\n      <td>5.043635</td>\n      <td>277119.575919</td>\n      <td>1.0</td>\n      <td>0.0</td>\n      <td>Good</td>\n    </tr>\n    <tr>\n      <th>52527</th>\n      <td>2022-04-05</td>\n      <td>12:09:21</td>\n      <td>22.2</td>\n      <td>294163</td>\n      <td>25.9</td>\n      <td>976.852</td>\n      <td>307.54</td>\n      <td>134.64</td>\n      <td>30.60</td>\n      <td>0.019586</td>\n      <td>5.072715</td>\n      <td>342515.006413</td>\n      <td>1.0</td>\n      <td>0.0</td>\n      <td>Good</td>\n    </tr>\n  </tbody>\n</table>\n</div>"
     },
     "execution_count": 13,
     "metadata": {},
     "output_type": "execute_result"
    }
   ],
   "source": [
    "df[(df.date == '2022-04-05') & (df.total == 'Good')]"
   ],
   "metadata": {
    "collapsed": false,
    "pycharm": {
     "name": "#%%\n"
    }
   }
  },
  {
   "cell_type": "code",
   "execution_count": 11,
   "outputs": [
    {
     "data": {
      "text/plain": "datetime.time(0, 0, 5)"
     },
     "execution_count": 11,
     "metadata": {},
     "output_type": "execute_result"
    }
   ],
   "source": [
    "df[(df.date == '2022-04-05')].iloc[0, 1]"
   ],
   "metadata": {
    "collapsed": false,
    "pycharm": {
     "name": "#%%\n"
    }
   }
  },
  {
   "cell_type": "code",
   "execution_count": 12,
   "outputs": [
    {
     "data": {
      "text/plain": "datetime.time(13, 23, 8)"
     },
     "execution_count": 12,
     "metadata": {},
     "output_type": "execute_result"
    }
   ],
   "source": [
    "df[(df.date == '2022-04-05')].iloc[-1, 1]"
   ],
   "metadata": {
    "collapsed": false,
    "pycharm": {
     "name": "#%%\n"
    }
   }
  },
  {
   "cell_type": "code",
   "execution_count": 13,
   "outputs": [
    {
     "data": {
      "text/plain": "            date      time  temp (C)  gas (ohm)  humidity (%)  pressure (hPa)  \\\n48237 2022-04-05  00:00:05      21.1     164700          17.9         988.346   \n48238 2022-04-05  00:00:15      21.1     165842          17.9         988.342   \n48239 2022-04-05  00:00:25      21.1     164700          17.9         988.339   \n48240 2022-04-05  00:00:36      21.1     164700          17.9         988.338   \n48241 2022-04-05  00:00:46      21.1     164538          17.9         988.336   \n...          ...       ...       ...        ...           ...             ...   \n48836 2022-04-05  01:42:00      21.0     135737          20.2         987.205   \n48866 2022-04-05  01:47:06      21.0     135628          20.3         987.144   \n48872 2022-04-05  01:48:07      21.0     135299          20.4         987.110   \n52522 2022-04-05  12:08:59      22.1     238207          25.9         976.883   \n52527 2022-04-05  12:09:21      22.2     294163          25.9         976.852   \n\n       altitude (m)  luminance window (lux)  luminance door (lux)   rho_max  \\\n48237        209.44                    0.00                  0.00  0.018381   \n48238        209.47                    0.00                  0.00  0.018381   \n48239        209.50                    0.00                  0.00  0.018381   \n48240        209.51                    0.00                  0.00  0.018381   \n48241        209.52                    0.00                  0.00  0.018381   \n...             ...                     ...                   ...       ...   \n48836        219.13                    0.00                  0.00  0.018275   \n48866        219.65                    0.00                  0.00  0.018275   \n48872        219.95                    0.00                  0.00  0.018275   \n52522        307.27                  134.64                 55.08  0.019473   \n52527        307.54                  134.64                 30.60  0.019586   \n\n        hum_abs       comp_gas        AQ         IAQ   total  \n48237  3.290197  181786.250885  0.723340  138.329795  Middle  \n48238  3.290197  183046.723857  0.728356  135.822039  Middle  \n48239  3.290197  181786.250885  0.723340  138.329795  Middle  \n48240  3.290197  181786.250885  0.723340  138.329795  Middle  \n48241  3.290197  181607.444737  0.722629  138.685536  Middle  \n...         ...            ...       ...         ...     ...  \n48836  3.691492  151633.126429  0.603359  198.320508  Middle  \n48866  3.709767  151594.449048  0.603205  198.397458  Middle  \n48872  3.728042  151309.649875  0.602072  198.964076  Middle  \n52522  5.043635  277119.575919  1.000000    0.000000    Good  \n52527  5.072715  342515.006413  1.000000    0.000000    Good  \n\n[568 rows x 15 columns]",
      "text/html": "<div>\n<style scoped>\n    .dataframe tbody tr th:only-of-type {\n        vertical-align: middle;\n    }\n\n    .dataframe tbody tr th {\n        vertical-align: top;\n    }\n\n    .dataframe thead th {\n        text-align: right;\n    }\n</style>\n<table border=\"1\" class=\"dataframe\">\n  <thead>\n    <tr style=\"text-align: right;\">\n      <th></th>\n      <th>date</th>\n      <th>time</th>\n      <th>temp (C)</th>\n      <th>gas (ohm)</th>\n      <th>humidity (%)</th>\n      <th>pressure (hPa)</th>\n      <th>altitude (m)</th>\n      <th>luminance window (lux)</th>\n      <th>luminance door (lux)</th>\n      <th>rho_max</th>\n      <th>hum_abs</th>\n      <th>comp_gas</th>\n      <th>AQ</th>\n      <th>IAQ</th>\n      <th>total</th>\n    </tr>\n  </thead>\n  <tbody>\n    <tr>\n      <th>48237</th>\n      <td>2022-04-05</td>\n      <td>00:00:05</td>\n      <td>21.1</td>\n      <td>164700</td>\n      <td>17.9</td>\n      <td>988.346</td>\n      <td>209.44</td>\n      <td>0.00</td>\n      <td>0.00</td>\n      <td>0.018381</td>\n      <td>3.290197</td>\n      <td>181786.250885</td>\n      <td>0.723340</td>\n      <td>138.329795</td>\n      <td>Middle</td>\n    </tr>\n    <tr>\n      <th>48238</th>\n      <td>2022-04-05</td>\n      <td>00:00:15</td>\n      <td>21.1</td>\n      <td>165842</td>\n      <td>17.9</td>\n      <td>988.342</td>\n      <td>209.47</td>\n      <td>0.00</td>\n      <td>0.00</td>\n      <td>0.018381</td>\n      <td>3.290197</td>\n      <td>183046.723857</td>\n      <td>0.728356</td>\n      <td>135.822039</td>\n      <td>Middle</td>\n    </tr>\n    <tr>\n      <th>48239</th>\n      <td>2022-04-05</td>\n      <td>00:00:25</td>\n      <td>21.1</td>\n      <td>164700</td>\n      <td>17.9</td>\n      <td>988.339</td>\n      <td>209.50</td>\n      <td>0.00</td>\n      <td>0.00</td>\n      <td>0.018381</td>\n      <td>3.290197</td>\n      <td>181786.250885</td>\n      <td>0.723340</td>\n      <td>138.329795</td>\n      <td>Middle</td>\n    </tr>\n    <tr>\n      <th>48240</th>\n      <td>2022-04-05</td>\n      <td>00:00:36</td>\n      <td>21.1</td>\n      <td>164700</td>\n      <td>17.9</td>\n      <td>988.338</td>\n      <td>209.51</td>\n      <td>0.00</td>\n      <td>0.00</td>\n      <td>0.018381</td>\n      <td>3.290197</td>\n      <td>181786.250885</td>\n      <td>0.723340</td>\n      <td>138.329795</td>\n      <td>Middle</td>\n    </tr>\n    <tr>\n      <th>48241</th>\n      <td>2022-04-05</td>\n      <td>00:00:46</td>\n      <td>21.1</td>\n      <td>164538</td>\n      <td>17.9</td>\n      <td>988.336</td>\n      <td>209.52</td>\n      <td>0.00</td>\n      <td>0.00</td>\n      <td>0.018381</td>\n      <td>3.290197</td>\n      <td>181607.444737</td>\n      <td>0.722629</td>\n      <td>138.685536</td>\n      <td>Middle</td>\n    </tr>\n    <tr>\n      <th>...</th>\n      <td>...</td>\n      <td>...</td>\n      <td>...</td>\n      <td>...</td>\n      <td>...</td>\n      <td>...</td>\n      <td>...</td>\n      <td>...</td>\n      <td>...</td>\n      <td>...</td>\n      <td>...</td>\n      <td>...</td>\n      <td>...</td>\n      <td>...</td>\n      <td>...</td>\n    </tr>\n    <tr>\n      <th>48836</th>\n      <td>2022-04-05</td>\n      <td>01:42:00</td>\n      <td>21.0</td>\n      <td>135737</td>\n      <td>20.2</td>\n      <td>987.205</td>\n      <td>219.13</td>\n      <td>0.00</td>\n      <td>0.00</td>\n      <td>0.018275</td>\n      <td>3.691492</td>\n      <td>151633.126429</td>\n      <td>0.603359</td>\n      <td>198.320508</td>\n      <td>Middle</td>\n    </tr>\n    <tr>\n      <th>48866</th>\n      <td>2022-04-05</td>\n      <td>01:47:06</td>\n      <td>21.0</td>\n      <td>135628</td>\n      <td>20.3</td>\n      <td>987.144</td>\n      <td>219.65</td>\n      <td>0.00</td>\n      <td>0.00</td>\n      <td>0.018275</td>\n      <td>3.709767</td>\n      <td>151594.449048</td>\n      <td>0.603205</td>\n      <td>198.397458</td>\n      <td>Middle</td>\n    </tr>\n    <tr>\n      <th>48872</th>\n      <td>2022-04-05</td>\n      <td>01:48:07</td>\n      <td>21.0</td>\n      <td>135299</td>\n      <td>20.4</td>\n      <td>987.110</td>\n      <td>219.95</td>\n      <td>0.00</td>\n      <td>0.00</td>\n      <td>0.018275</td>\n      <td>3.728042</td>\n      <td>151309.649875</td>\n      <td>0.602072</td>\n      <td>198.964076</td>\n      <td>Middle</td>\n    </tr>\n    <tr>\n      <th>52522</th>\n      <td>2022-04-05</td>\n      <td>12:08:59</td>\n      <td>22.1</td>\n      <td>238207</td>\n      <td>25.9</td>\n      <td>976.883</td>\n      <td>307.27</td>\n      <td>134.64</td>\n      <td>55.08</td>\n      <td>0.019473</td>\n      <td>5.043635</td>\n      <td>277119.575919</td>\n      <td>1.000000</td>\n      <td>0.000000</td>\n      <td>Good</td>\n    </tr>\n    <tr>\n      <th>52527</th>\n      <td>2022-04-05</td>\n      <td>12:09:21</td>\n      <td>22.2</td>\n      <td>294163</td>\n      <td>25.9</td>\n      <td>976.852</td>\n      <td>307.54</td>\n      <td>134.64</td>\n      <td>30.60</td>\n      <td>0.019586</td>\n      <td>5.072715</td>\n      <td>342515.006413</td>\n      <td>1.000000</td>\n      <td>0.000000</td>\n      <td>Good</td>\n    </tr>\n  </tbody>\n</table>\n<p>568 rows × 15 columns</p>\n</div>"
     },
     "execution_count": 13,
     "metadata": {},
     "output_type": "execute_result"
    }
   ],
   "source": [
    "df[((df.total == 'Good') | (df.total == 'Middle')) & (df.date == '2022-04-05')]"
   ],
   "metadata": {
    "collapsed": false,
    "pycharm": {
     "name": "#%%\n"
    }
   }
  },
  {
   "cell_type": "code",
   "execution_count": 9,
   "outputs": [],
   "source": [
    "# df[(df.date ==my_excel.date[0]) & (df.time >= my_excel.time[0]) & (df.time <= my_excel.time[1])]"
   ],
   "metadata": {
    "collapsed": false,
    "pycharm": {
     "name": "#%%\n"
    }
   }
  },
  {
   "cell_type": "code",
   "execution_count": 39,
   "outputs": [
    {
     "data": {
      "text/plain": "datetime.time(10, 25, 40)"
     },
     "execution_count": 39,
     "metadata": {},
     "output_type": "execute_result"
    }
   ],
   "source": [],
   "metadata": {
    "collapsed": false,
    "pycharm": {
     "name": "#%%\n"
    }
   }
  },
  {
   "cell_type": "code",
   "execution_count": null,
   "outputs": [],
   "source": [],
   "metadata": {
    "collapsed": false,
    "pycharm": {
     "name": "#%%\n"
    }
   }
  }
 ],
 "metadata": {
  "kernelspec": {
   "display_name": "Python 3",
   "language": "python",
   "name": "python3"
  },
  "language_info": {
   "codemirror_mode": {
    "name": "ipython",
    "version": 2
   },
   "file_extension": ".py",
   "mimetype": "text/x-python",
   "name": "python",
   "nbconvert_exporter": "python",
   "pygments_lexer": "ipython2",
   "version": "2.7.6"
  }
 },
 "nbformat": 4,
 "nbformat_minor": 0
}