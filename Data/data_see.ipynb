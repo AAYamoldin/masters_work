{
 "cells": [
  {
   "cell_type": "code",
   "execution_count": 15,
   "outputs": [],
   "source": [
    "import pandas as pd"
   ],
   "metadata": {
    "collapsed": false,
    "pycharm": {
     "name": "#%%\n"
    }
   }
  },
  {
   "cell_type": "code",
   "execution_count": 16,
   "outputs": [
    {
     "data": {
      "text/plain": "            date      time  temp (C)  gas (ohm)  humidity (%)  pressure (hPa)  \\\n0     2022-03-16  21:27:25      23.9       7795          15.3        1035.755   \n1     2022-03-16  21:35:44      23.9       6582          15.3        1035.780   \n2     2022-03-16  21:35:56      23.9       5703          15.3        1035.815   \n3     2022-03-16  21:38:56      23.9       1268          15.3        1035.820   \n4     2022-03-16  21:41:56      23.9       1949          15.4        1035.824   \n...          ...       ...       ...        ...           ...             ...   \n55626 2022-04-09  17:01:10      22.1    1186891          19.0         992.727   \n55627 2022-04-09  17:01:12      22.2      43303          19.0         992.725   \n55628 2022-04-09  17:01:13      22.2      45661          19.0         992.729   \n55629 2022-04-09  17:01:14      22.3      51183          19.0         992.732   \n55630 2022-04-09  17:03:01      22.2     409627          19.0         992.728   \n\n       altitude (m)  luminance window (lux)  luminance door (lux)   rho_max  \\\n0           -185.71                  122.40                195.84  0.021582   \n1           -185.91                  122.40                195.84  0.021582   \n2           -186.20                  122.40                195.84  0.021582   \n3           -186.24                  122.40                195.84  0.021582   \n4           -186.27                  122.40                195.84  0.021582   \n...             ...                     ...                   ...       ...   \n55626        172.29                  110.16                 97.92  0.019473   \n55627        172.30                  110.16                 97.92  0.019586   \n55628        172.27                  110.16                 97.92  0.019586   \n55629        172.24                  110.16                 97.92  0.019699   \n55630        172.28                  110.16                 97.92  0.019586   \n\n        hum_abs      comp_gas        AQ         IAQ total  \n0      3.302036  8.606722e+03  0.026186  486.907098   Bad  \n1      3.302036  7.267408e+03  0.028918  485.541233   Bad  \n2      3.302036  6.296875e+03  0.025056  487.472144   Bad  \n3      3.302036  1.400042e+03  0.005571  497.214568   Bad  \n4      3.323618  2.153350e+03  0.008568  495.715833   Bad  \n...         ...           ...       ...         ...   ...  \n55626  3.699964  1.326225e+06  1.000000    0.000000  Good  \n55627  3.721296  4.841748e+04  0.192657  403.671713   Bad  \n55628  3.721296  5.105398e+04  0.203147  398.426300   Bad  \n55629  3.742735  5.726499e+04  0.227861  386.069262   Bad  \n55630  3.721296  4.580076e+05  1.000000    0.000000  Good  \n\n[55631 rows x 15 columns]",
      "text/html": "<div>\n<style scoped>\n    .dataframe tbody tr th:only-of-type {\n        vertical-align: middle;\n    }\n\n    .dataframe tbody tr th {\n        vertical-align: top;\n    }\n\n    .dataframe thead th {\n        text-align: right;\n    }\n</style>\n<table border=\"1\" class=\"dataframe\">\n  <thead>\n    <tr style=\"text-align: right;\">\n      <th></th>\n      <th>date</th>\n      <th>time</th>\n      <th>temp (C)</th>\n      <th>gas (ohm)</th>\n      <th>humidity (%)</th>\n      <th>pressure (hPa)</th>\n      <th>altitude (m)</th>\n      <th>luminance window (lux)</th>\n      <th>luminance door (lux)</th>\n      <th>rho_max</th>\n      <th>hum_abs</th>\n      <th>comp_gas</th>\n      <th>AQ</th>\n      <th>IAQ</th>\n      <th>total</th>\n    </tr>\n  </thead>\n  <tbody>\n    <tr>\n      <th>0</th>\n      <td>2022-03-16</td>\n      <td>21:27:25</td>\n      <td>23.9</td>\n      <td>7795</td>\n      <td>15.3</td>\n      <td>1035.755</td>\n      <td>-185.71</td>\n      <td>122.40</td>\n      <td>195.84</td>\n      <td>0.021582</td>\n      <td>3.302036</td>\n      <td>8.606722e+03</td>\n      <td>0.026186</td>\n      <td>486.907098</td>\n      <td>Bad</td>\n    </tr>\n    <tr>\n      <th>1</th>\n      <td>2022-03-16</td>\n      <td>21:35:44</td>\n      <td>23.9</td>\n      <td>6582</td>\n      <td>15.3</td>\n      <td>1035.780</td>\n      <td>-185.91</td>\n      <td>122.40</td>\n      <td>195.84</td>\n      <td>0.021582</td>\n      <td>3.302036</td>\n      <td>7.267408e+03</td>\n      <td>0.028918</td>\n      <td>485.541233</td>\n      <td>Bad</td>\n    </tr>\n    <tr>\n      <th>2</th>\n      <td>2022-03-16</td>\n      <td>21:35:56</td>\n      <td>23.9</td>\n      <td>5703</td>\n      <td>15.3</td>\n      <td>1035.815</td>\n      <td>-186.20</td>\n      <td>122.40</td>\n      <td>195.84</td>\n      <td>0.021582</td>\n      <td>3.302036</td>\n      <td>6.296875e+03</td>\n      <td>0.025056</td>\n      <td>487.472144</td>\n      <td>Bad</td>\n    </tr>\n    <tr>\n      <th>3</th>\n      <td>2022-03-16</td>\n      <td>21:38:56</td>\n      <td>23.9</td>\n      <td>1268</td>\n      <td>15.3</td>\n      <td>1035.820</td>\n      <td>-186.24</td>\n      <td>122.40</td>\n      <td>195.84</td>\n      <td>0.021582</td>\n      <td>3.302036</td>\n      <td>1.400042e+03</td>\n      <td>0.005571</td>\n      <td>497.214568</td>\n      <td>Bad</td>\n    </tr>\n    <tr>\n      <th>4</th>\n      <td>2022-03-16</td>\n      <td>21:41:56</td>\n      <td>23.9</td>\n      <td>1949</td>\n      <td>15.4</td>\n      <td>1035.824</td>\n      <td>-186.27</td>\n      <td>122.40</td>\n      <td>195.84</td>\n      <td>0.021582</td>\n      <td>3.323618</td>\n      <td>2.153350e+03</td>\n      <td>0.008568</td>\n      <td>495.715833</td>\n      <td>Bad</td>\n    </tr>\n    <tr>\n      <th>...</th>\n      <td>...</td>\n      <td>...</td>\n      <td>...</td>\n      <td>...</td>\n      <td>...</td>\n      <td>...</td>\n      <td>...</td>\n      <td>...</td>\n      <td>...</td>\n      <td>...</td>\n      <td>...</td>\n      <td>...</td>\n      <td>...</td>\n      <td>...</td>\n      <td>...</td>\n    </tr>\n    <tr>\n      <th>55626</th>\n      <td>2022-04-09</td>\n      <td>17:01:10</td>\n      <td>22.1</td>\n      <td>1186891</td>\n      <td>19.0</td>\n      <td>992.727</td>\n      <td>172.29</td>\n      <td>110.16</td>\n      <td>97.92</td>\n      <td>0.019473</td>\n      <td>3.699964</td>\n      <td>1.326225e+06</td>\n      <td>1.000000</td>\n      <td>0.000000</td>\n      <td>Good</td>\n    </tr>\n    <tr>\n      <th>55627</th>\n      <td>2022-04-09</td>\n      <td>17:01:12</td>\n      <td>22.2</td>\n      <td>43303</td>\n      <td>19.0</td>\n      <td>992.725</td>\n      <td>172.30</td>\n      <td>110.16</td>\n      <td>97.92</td>\n      <td>0.019586</td>\n      <td>3.721296</td>\n      <td>4.841748e+04</td>\n      <td>0.192657</td>\n      <td>403.671713</td>\n      <td>Bad</td>\n    </tr>\n    <tr>\n      <th>55628</th>\n      <td>2022-04-09</td>\n      <td>17:01:13</td>\n      <td>22.2</td>\n      <td>45661</td>\n      <td>19.0</td>\n      <td>992.729</td>\n      <td>172.27</td>\n      <td>110.16</td>\n      <td>97.92</td>\n      <td>0.019586</td>\n      <td>3.721296</td>\n      <td>5.105398e+04</td>\n      <td>0.203147</td>\n      <td>398.426300</td>\n      <td>Bad</td>\n    </tr>\n    <tr>\n      <th>55629</th>\n      <td>2022-04-09</td>\n      <td>17:01:14</td>\n      <td>22.3</td>\n      <td>51183</td>\n      <td>19.0</td>\n      <td>992.732</td>\n      <td>172.24</td>\n      <td>110.16</td>\n      <td>97.92</td>\n      <td>0.019699</td>\n      <td>3.742735</td>\n      <td>5.726499e+04</td>\n      <td>0.227861</td>\n      <td>386.069262</td>\n      <td>Bad</td>\n    </tr>\n    <tr>\n      <th>55630</th>\n      <td>2022-04-09</td>\n      <td>17:03:01</td>\n      <td>22.2</td>\n      <td>409627</td>\n      <td>19.0</td>\n      <td>992.728</td>\n      <td>172.28</td>\n      <td>110.16</td>\n      <td>97.92</td>\n      <td>0.019586</td>\n      <td>3.721296</td>\n      <td>4.580076e+05</td>\n      <td>1.000000</td>\n      <td>0.000000</td>\n      <td>Good</td>\n    </tr>\n  </tbody>\n</table>\n<p>55631 rows × 15 columns</p>\n</div>"
     },
     "execution_count": 16,
     "metadata": {},
     "output_type": "execute_result"
    }
   ],
   "source": [
    "df = pd.read_excel('initial_data.xlsx')\n",
    "df"
   ],
   "metadata": {
    "collapsed": false,
    "pycharm": {
     "name": "#%%\n"
    }
   }
  },
  {
   "cell_type": "code",
   "execution_count": 17,
   "outputs": [
    {
     "data": {
      "text/plain": "Empty DataFrame\nColumns: [date, time, temp (C), gas (ohm), humidity (%), pressure (hPa), altitude (m), luminance window (lux), luminance door (lux), rho_max, hum_abs, comp_gas, AQ, IAQ, total]\nIndex: []",
      "text/html": "<div>\n<style scoped>\n    .dataframe tbody tr th:only-of-type {\n        vertical-align: middle;\n    }\n\n    .dataframe tbody tr th {\n        vertical-align: top;\n    }\n\n    .dataframe thead th {\n        text-align: right;\n    }\n</style>\n<table border=\"1\" class=\"dataframe\">\n  <thead>\n    <tr style=\"text-align: right;\">\n      <th></th>\n      <th>date</th>\n      <th>time</th>\n      <th>temp (C)</th>\n      <th>gas (ohm)</th>\n      <th>humidity (%)</th>\n      <th>pressure (hPa)</th>\n      <th>altitude (m)</th>\n      <th>luminance window (lux)</th>\n      <th>luminance door (lux)</th>\n      <th>rho_max</th>\n      <th>hum_abs</th>\n      <th>comp_gas</th>\n      <th>AQ</th>\n      <th>IAQ</th>\n      <th>total</th>\n    </tr>\n  </thead>\n  <tbody>\n  </tbody>\n</table>\n</div>"
     },
     "execution_count": 17,
     "metadata": {},
     "output_type": "execute_result"
    }
   ],
   "source": [
    "df[(df.date == '2022-04-06') & (df.total == 'Good')]"
   ],
   "metadata": {
    "collapsed": false,
    "pycharm": {
     "name": "#%%\n"
    }
   }
  },
  {
   "cell_type": "code",
   "execution_count": 22,
   "outputs": [
    {
     "data": {
      "text/plain": "datetime.time(0, 0, 5)"
     },
     "execution_count": 22,
     "metadata": {},
     "output_type": "execute_result"
    }
   ],
   "source": [
    "df[(df.date == '2022-04-01')].iloc[0, 1]"
   ],
   "metadata": {
    "collapsed": false,
    "pycharm": {
     "name": "#%%\n"
    }
   }
  },
  {
   "cell_type": "code",
   "execution_count": 23,
   "outputs": [
    {
     "data": {
      "text/plain": "datetime.time(16, 30, 32)"
     },
     "execution_count": 23,
     "metadata": {},
     "output_type": "execute_result"
    }
   ],
   "source": [
    "df[(df.date == '2022-04-01')].iloc[-1, 1]"
   ],
   "metadata": {
    "collapsed": false,
    "pycharm": {
     "name": "#%%\n"
    }
   }
  },
  {
   "cell_type": "code",
   "execution_count": 21,
   "outputs": [
    {
     "data": {
      "text/plain": "            date      time  temp (C)  gas (ohm)  humidity (%)  pressure (hPa)  \\\n31759 2022-04-01  00:00:05      21.7     146416          16.4        1012.903   \n31760 2022-04-01  00:00:15      21.7     146288          16.4        1012.911   \n31761 2022-04-01  00:00:25      21.7     145147          16.4        1012.908   \n31762 2022-04-01  00:00:35      21.7     146930          16.4        1012.919   \n31763 2022-04-01  00:00:45      21.7     146930          16.4        1012.910   \n...          ...       ...       ...        ...           ...             ...   \n35519 2022-04-01  12:31:11      22.8     137521          20.8        1015.571   \n35520 2022-04-01  12:31:19      22.8     134430          20.8        1015.578   \n35521 2022-04-01  12:31:23      22.8     385559          20.8        1015.621   \n35958 2022-04-01  16:08:13      23.5     169534          18.4        1014.712   \n35963 2022-04-01  16:30:02      23.2     151173          16.2        1014.529   \n\n       altitude (m)  luminance window (lux)  luminance door (lux)   rho_max  \\\n31759          2.89                    0.00                  0.00  0.019030   \n31760          2.82                    0.00                  0.00  0.019030   \n31761          2.85                    0.00                  0.00  0.019030   \n31762          2.76                    0.00                  0.00  0.019030   \n31763          2.83                    0.00                  0.00  0.019030   \n...             ...                     ...                   ...       ...   \n35519        -19.31                  538.56                110.16  0.020271   \n35520        -19.36                  538.56                110.16  0.020271   \n35521        -19.73                  538.56                110.16  0.020271   \n35958        -12.17                  183.60                 22.95  0.021097   \n35963        -10.64                  171.36                183.60  0.020740   \n\n        hum_abs       comp_gas        AQ         IAQ   total  \n31759  3.120910  160786.785733  0.639782  180.108977  Middle  \n31760  3.120910  160646.222485  0.639223  180.388633  Middle  \n31761  3.120910  159393.232904  0.634237  182.881500  Middle  \n31762  3.120910  161351.235028  0.642028  178.985985  Middle  \n31763  3.120910  161351.235028  0.642028  178.985985  Middle  \n...         ...            ...       ...         ...     ...  \n35519  4.216420  156064.477518  0.620992  189.504177  Middle  \n35520  4.216420  152556.683799  0.607034  196.483057  Middle  \n35521  4.216420  437548.184550  1.000000    0.000000    Good  \n35958  3.881866  190472.812583  0.757905  121.047572  Middle  \n35963  3.359827  167204.845242  0.665320  167.340020  Middle  \n\n[2416 rows x 15 columns]",
      "text/html": "<div>\n<style scoped>\n    .dataframe tbody tr th:only-of-type {\n        vertical-align: middle;\n    }\n\n    .dataframe tbody tr th {\n        vertical-align: top;\n    }\n\n    .dataframe thead th {\n        text-align: right;\n    }\n</style>\n<table border=\"1\" class=\"dataframe\">\n  <thead>\n    <tr style=\"text-align: right;\">\n      <th></th>\n      <th>date</th>\n      <th>time</th>\n      <th>temp (C)</th>\n      <th>gas (ohm)</th>\n      <th>humidity (%)</th>\n      <th>pressure (hPa)</th>\n      <th>altitude (m)</th>\n      <th>luminance window (lux)</th>\n      <th>luminance door (lux)</th>\n      <th>rho_max</th>\n      <th>hum_abs</th>\n      <th>comp_gas</th>\n      <th>AQ</th>\n      <th>IAQ</th>\n      <th>total</th>\n    </tr>\n  </thead>\n  <tbody>\n    <tr>\n      <th>31759</th>\n      <td>2022-04-01</td>\n      <td>00:00:05</td>\n      <td>21.7</td>\n      <td>146416</td>\n      <td>16.4</td>\n      <td>1012.903</td>\n      <td>2.89</td>\n      <td>0.00</td>\n      <td>0.00</td>\n      <td>0.019030</td>\n      <td>3.120910</td>\n      <td>160786.785733</td>\n      <td>0.639782</td>\n      <td>180.108977</td>\n      <td>Middle</td>\n    </tr>\n    <tr>\n      <th>31760</th>\n      <td>2022-04-01</td>\n      <td>00:00:15</td>\n      <td>21.7</td>\n      <td>146288</td>\n      <td>16.4</td>\n      <td>1012.911</td>\n      <td>2.82</td>\n      <td>0.00</td>\n      <td>0.00</td>\n      <td>0.019030</td>\n      <td>3.120910</td>\n      <td>160646.222485</td>\n      <td>0.639223</td>\n      <td>180.388633</td>\n      <td>Middle</td>\n    </tr>\n    <tr>\n      <th>31761</th>\n      <td>2022-04-01</td>\n      <td>00:00:25</td>\n      <td>21.7</td>\n      <td>145147</td>\n      <td>16.4</td>\n      <td>1012.908</td>\n      <td>2.85</td>\n      <td>0.00</td>\n      <td>0.00</td>\n      <td>0.019030</td>\n      <td>3.120910</td>\n      <td>159393.232904</td>\n      <td>0.634237</td>\n      <td>182.881500</td>\n      <td>Middle</td>\n    </tr>\n    <tr>\n      <th>31762</th>\n      <td>2022-04-01</td>\n      <td>00:00:35</td>\n      <td>21.7</td>\n      <td>146930</td>\n      <td>16.4</td>\n      <td>1012.919</td>\n      <td>2.76</td>\n      <td>0.00</td>\n      <td>0.00</td>\n      <td>0.019030</td>\n      <td>3.120910</td>\n      <td>161351.235028</td>\n      <td>0.642028</td>\n      <td>178.985985</td>\n      <td>Middle</td>\n    </tr>\n    <tr>\n      <th>31763</th>\n      <td>2022-04-01</td>\n      <td>00:00:45</td>\n      <td>21.7</td>\n      <td>146930</td>\n      <td>16.4</td>\n      <td>1012.910</td>\n      <td>2.83</td>\n      <td>0.00</td>\n      <td>0.00</td>\n      <td>0.019030</td>\n      <td>3.120910</td>\n      <td>161351.235028</td>\n      <td>0.642028</td>\n      <td>178.985985</td>\n      <td>Middle</td>\n    </tr>\n    <tr>\n      <th>...</th>\n      <td>...</td>\n      <td>...</td>\n      <td>...</td>\n      <td>...</td>\n      <td>...</td>\n      <td>...</td>\n      <td>...</td>\n      <td>...</td>\n      <td>...</td>\n      <td>...</td>\n      <td>...</td>\n      <td>...</td>\n      <td>...</td>\n      <td>...</td>\n      <td>...</td>\n    </tr>\n    <tr>\n      <th>35519</th>\n      <td>2022-04-01</td>\n      <td>12:31:11</td>\n      <td>22.8</td>\n      <td>137521</td>\n      <td>20.8</td>\n      <td>1015.571</td>\n      <td>-19.31</td>\n      <td>538.56</td>\n      <td>110.16</td>\n      <td>0.020271</td>\n      <td>4.216420</td>\n      <td>156064.477518</td>\n      <td>0.620992</td>\n      <td>189.504177</td>\n      <td>Middle</td>\n    </tr>\n    <tr>\n      <th>35520</th>\n      <td>2022-04-01</td>\n      <td>12:31:19</td>\n      <td>22.8</td>\n      <td>134430</td>\n      <td>20.8</td>\n      <td>1015.578</td>\n      <td>-19.36</td>\n      <td>538.56</td>\n      <td>110.16</td>\n      <td>0.020271</td>\n      <td>4.216420</td>\n      <td>152556.683799</td>\n      <td>0.607034</td>\n      <td>196.483057</td>\n      <td>Middle</td>\n    </tr>\n    <tr>\n      <th>35521</th>\n      <td>2022-04-01</td>\n      <td>12:31:23</td>\n      <td>22.8</td>\n      <td>385559</td>\n      <td>20.8</td>\n      <td>1015.621</td>\n      <td>-19.73</td>\n      <td>538.56</td>\n      <td>110.16</td>\n      <td>0.020271</td>\n      <td>4.216420</td>\n      <td>437548.184550</td>\n      <td>1.000000</td>\n      <td>0.000000</td>\n      <td>Good</td>\n    </tr>\n    <tr>\n      <th>35958</th>\n      <td>2022-04-01</td>\n      <td>16:08:13</td>\n      <td>23.5</td>\n      <td>169534</td>\n      <td>18.4</td>\n      <td>1014.712</td>\n      <td>-12.17</td>\n      <td>183.60</td>\n      <td>22.95</td>\n      <td>0.021097</td>\n      <td>3.881866</td>\n      <td>190472.812583</td>\n      <td>0.757905</td>\n      <td>121.047572</td>\n      <td>Middle</td>\n    </tr>\n    <tr>\n      <th>35963</th>\n      <td>2022-04-01</td>\n      <td>16:30:02</td>\n      <td>23.2</td>\n      <td>151173</td>\n      <td>16.2</td>\n      <td>1014.529</td>\n      <td>-10.64</td>\n      <td>171.36</td>\n      <td>183.60</td>\n      <td>0.020740</td>\n      <td>3.359827</td>\n      <td>167204.845242</td>\n      <td>0.665320</td>\n      <td>167.340020</td>\n      <td>Middle</td>\n    </tr>\n  </tbody>\n</table>\n<p>2416 rows × 15 columns</p>\n</div>"
     },
     "execution_count": 21,
     "metadata": {},
     "output_type": "execute_result"
    }
   ],
   "source": [
    "df[((df.total == 'Good') | (df.total == 'Middle')) & (df.date == '2022-04-01')]1"
   ],
   "metadata": {
    "collapsed": false,
    "pycharm": {
     "name": "#%%\n"
    }
   }
  },
  {
   "cell_type": "code",
   "execution_count": 9,
   "outputs": [],
   "source": [
    "# df[(df.date ==my_excel.date[0]) & (df.time >= my_excel.time[0]) & (df.time <= my_excel.time[1])]"
   ],
   "metadata": {
    "collapsed": false,
    "pycharm": {
     "name": "#%%\n"
    }
   }
  },
  {
   "cell_type": "code",
   "execution_count": 39,
   "outputs": [
    {
     "data": {
      "text/plain": "datetime.time(10, 25, 40)"
     },
     "execution_count": 39,
     "metadata": {},
     "output_type": "execute_result"
    }
   ],
   "source": [],
   "metadata": {
    "collapsed": false,
    "pycharm": {
     "name": "#%%\n"
    }
   }
  },
  {
   "cell_type": "code",
   "execution_count": null,
   "outputs": [],
   "source": [],
   "metadata": {
    "collapsed": false,
    "pycharm": {
     "name": "#%%\n"
    }
   }
  }
 ],
 "metadata": {
  "kernelspec": {
   "display_name": "Python 3",
   "language": "python",
   "name": "python3"
  },
  "language_info": {
   "codemirror_mode": {
    "name": "ipython",
    "version": 2
   },
   "file_extension": ".py",
   "mimetype": "text/x-python",
   "name": "python",
   "nbconvert_exporter": "python",
   "pygments_lexer": "ipython2",
   "version": "2.7.6"
  }
 },
 "nbformat": 4,
 "nbformat_minor": 0
}